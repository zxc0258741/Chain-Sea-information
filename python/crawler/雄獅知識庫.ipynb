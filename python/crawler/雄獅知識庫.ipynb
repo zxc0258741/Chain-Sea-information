{
 "cells": [
  {
   "cell_type": "code",
   "execution_count": 1,
   "metadata": {
    "collapsed": false
   },
   "outputs": [],
   "source": [
    "import requests\n",
    "from bs4 import BeautifulSoup as bs\n",
    "from urlparse import urljoin\n",
    "import json\n",
    "dictart=''\n",
    "url='http://km.lionart.com.tw/API/DictionaryListHandler.ashx?t=%E4%B8%AD%E5%9C%8B%E7%BE%8E%E8%A1%93%E8%BE%AD%E5%85%B8&i={}&c=20'\n",
    "for i in range(1,282):\n",
    "    res=requests.get(url.format(i))\n",
    "    a=json.loads(res.text)['data']\n",
    "    for title in a:\n",
    "        dictart+=title['Title']+'\\n'\n",
    "with open('C:/Users/LCW/Desktop/artdict.txt','w') as f:\n",
    "    f.write(dictart.encode('utf-8'))\n"
   ]
  },
  {
   "cell_type": "code",
   "execution_count": null,
   "metadata": {
    "collapsed": true
   },
   "outputs": [],
   "source": [
    "    a=json.loads(res.text)['data']\n",
    "    for title in a:\n",
    "        dictart+=title['Title']+'\\n'\n",
    "with open('C:/Users/LCW/Desktop/artdict.txt','w') as f:\n",
    "    f.write(title)"
   ]
  }
 ],
 "metadata": {
  "kernelspec": {
   "display_name": "Python 2",
   "language": "python",
   "name": "python2"
  },
  "language_info": {
   "codemirror_mode": {
    "name": "ipython",
    "version": 2
   },
   "file_extension": ".py",
   "mimetype": "text/x-python",
   "name": "python",
   "nbconvert_exporter": "python",
   "pygments_lexer": "ipython2",
   "version": "2.7.11"
  }
 },
 "nbformat": 4,
 "nbformat_minor": 0
}
