{
 "cells": [
  {
   "cell_type": "code",
   "execution_count": 58,
   "metadata": {
    "collapsed": false
   },
   "outputs": [
    {
     "name": "stdout",
     "output_type": "stream",
     "text": [
      "no tagged place\n",
      "Joyce 食尚樂活 added 8 new photos — feeling content at 成家小館.\n",
      "Joyce 食尚樂活 added 11 new photos — feeling 吃到發冷 at 宮原眼科.\n",
      "Joyce 食尚樂活 feeling blissful at 阿隨清粥店.\n",
      "no tagged place\n",
      "Joyce 食尚樂活 added 7 new photos — feeling stuffed at Mw義法料理&酒品 大直店.\n",
      "no tagged place\n",
      "no tagged place\n",
      "Joyce 食尚樂活 added 5 new photos — feeling 天氣超棒 at Taichung Metropolitan Opera House.\n",
      "Joyce 食尚樂活 added 10 new photos — feeling 超愛我的新髮色 at 忘憂森林.\n",
      "no tagged place\n",
      "Joyce 食尚樂活 added 3 new photos — feeling hyper at PLUUS 南西one店.\n",
      "no tagged place\n",
      "no tagged place\n",
      "Joyce 食尚樂活 at 九州鬆餅咖啡 - 台北松菸店 / 九州パンケーキカフェ.\n",
      "Joyce 食尚樂活 added 42 new photos — feeling 期待除夕團圓照完抽獎 at 迪化街年貨大街.\n",
      "no tagged place\n",
      "no tagged place\n",
      "no tagged place\n",
      "no tagged place\n",
      "no tagged place\n",
      "no tagged place\n",
      "Joyce 食尚樂活 at Ritz Carlton Macau 麗軒.\n",
      "Joyce 食尚樂活 at JW Marriott Hotel Macau.\n",
      "Joyce 食尚樂活 feeling pretty at The Ritz-Carlton, Macau.\n",
      "Joyce 食尚樂活 added 2 new photos — feeling 好想念他們家的蘭姆葡萄餅呀 at 小罐子點心舖.\n",
      "Joyce 食尚樂活 at PLUUS 南西one店.\n",
      "Joyce 食尚樂活 added 7 new photos — feeling amused with Katherine Chen.\n",
      "Joyce 食尚樂活 added 4 new photos — feeling content at 圓圓小籠湯包.\n",
      "Joyce 食尚樂活 added 9 new photos — feeling 準備攻佔菜單 at Alexander's Steakhouse Taipei 亞歷山大牛排台北店.\n",
      "Joyce 食尚樂活 added 2 new photos — feeling content at 珠寶盒法式點心坊 boîte de bijou.\n",
      "no tagged place\n",
      "no tagged place\n",
      "Joyce 食尚樂活 added 6 new photos — feeling 怎麼拍都好美 at Mandarin Oriental, Taipei 台北文華東方酒店.\n",
      "Joyce 食尚樂活 feeling 其實是夏至吧 at 寧夏觀光夜市.\n",
      "Joyce 食尚樂活 added 9 new photos — feeling blissful at UZNA OMOM 杏桃鬆餅屋.\n",
      "no tagged place\n",
      "Joyce 食尚樂活 at Mandarin Oriental, Taipei 台北文華東方酒店.\n",
      "no tagged place\n",
      "Joyce 食尚樂活 feeling festive at The Ritz-Carlton, Macau.\n",
      "Joyce 食尚樂活 added 15 new photos — feeling hyper at The Ritz-Carlton, Macau.\n",
      "Joyce 食尚樂活 added 5 new photos — feeling relaxed at The ritz Carlton macau 51 floor bar & Lounge.\n",
      "Joyce 食尚樂活 added 9 new photos — feeling blissful at The Ritz-Carlton, Macau.\n",
      "Joyce 食尚樂活 added 5 new photos — feeling relaxed at JW Marriott Hotel Macau.\n",
      "Joyce 食尚樂活 added 9 new photos — feeling content at 萬豪中菜廳.\n",
      "Joyce 食尚樂活 at JW Marriott Hotel Macau.\n",
      "Joyce 食尚樂活 added 5 new photos — feeling blissful at JW Marriott Hotel Macau.\n",
      "Joyce 食尚樂活 added 8 new photos — feeling content at Ritz Carlton Macau 麗軒.\n",
      "Joyce 食尚樂活 feeling content at JW Marriott Hotel Macau.\n",
      "Joyce 食尚樂活 feeling relaxed at JW Marriott Hotel Macau.\n",
      "Joyce 食尚樂活 added 4 new photos — feeling 不推薦良心不安 at PINEDE.\n",
      "Joyce 食尚樂活 added 11 new photos — feeling 是來過一次會愛上的好餐廳 at Sabatini Cucina 深庭.\n",
      "Joyce 食尚樂活 feeling blissful at dé PLACE.\n",
      "Joyce 食尚樂活 added 2 new photos — feeling nice at Micasa Dolci Pâtisserie蜜膳屋手工甜點店.\n",
      "no tagged place\n",
      "Joyce 食尚樂活 added 8 new photos — feeling warm at Ombré.\n",
      "Joyce 食尚樂活 added 7 new photos — feeling 久久沒造訪還是一樣美味呢 at 鬍子餐酒 Baffi Italian trattoria (Taipei).\n",
      "no tagged place\n",
      "Joyce 食尚樂活 added 5 new photos — feeling blissful at PLUUS 南西one店.\n",
      "Joyce 食尚樂活 added 18 new photos — feeling 繼續幸福放閃 at RAW.\n"
     ]
    }
   ],
   "source": [
    "import requests\n",
    "import json\n",
    "import jieba\n",
    "ACCESS_TOKEN = 'CAACEdEose0cBAPMFLjx4ZACAjPUXy3ZCrW1FvacVnS1OM26xU5B3GM7TZB0XUOawvkppg1raYFHfNPQLK9QFiamYeLVK1NgI9VJ2TamfGap8iCYXj01ZCNyoCGMpjJRfd2eDsLVgwehHXHMyH2BOG5l1muY2NOH2CtvTtZCIe5oRfTKtPxLVVSvnECcMkZApv14fcgMLBOelC4dZCAoSXSDSmUCxfppLrgZD'\n",
    "res = requests.get('https://graph.facebook.com/v2.5/joycewu1120/posts?access_token={}&limit=100&since=1420070400'.format(ACCESS_TOKEN))\n",
    "jd = json.loads(res.text)\n",
    "\n",
    "for a in jd['data']:\n",
    "    try:\n",
    "        if 'at' in a['story']:\n",
    "            print a['story']        \n",
    "    except: \n",
    "        print \"沒打卡\"\n",
    " \n",
    "\n"
   ]
  }
 ],
 "metadata": {
  "kernelspec": {
   "display_name": "Python 2",
   "language": "python",
   "name": "python2"
  },
  "language_info": {
   "codemirror_mode": {
    "name": "ipython",
    "version": 2
   },
   "file_extension": ".py",
   "mimetype": "text/x-python",
   "name": "python",
   "nbconvert_exporter": "python",
   "pygments_lexer": "ipython2",
   "version": "2.7.11"
  }
 },
 "nbformat": 4,
 "nbformat_minor": 0
}
