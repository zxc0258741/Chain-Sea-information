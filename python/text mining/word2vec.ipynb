{
 "cells": [
  {
   "cell_type": "code",
   "execution_count": 25,
   "metadata": {
    "collapsed": false
   },
   "outputs": [],
   "source": [
    "from gensim import corpora, models, similarities\n",
    "from gensim.models import Word2Vec as w2v\n",
    "import jieba\n",
    "import io\n",
    "jieba.load_userdict('C:/Users/LCW/Desktop/textmining/dict/dictbig.txt')\n",
    "jieba.load_userdict('C:/Users/LCW/Desktop/textmining/dict/dict_cbdic.txt')\n",
    "jieba.load_userdict('C:/Users/LCW/Desktop/textmining/dict/dict_keyw_new.txt')\n",
    "jieba.load_userdict('C:/Users/LCW/Desktop/textmining/dict/artist.txt')\n",
    "jieba.load_userdict('C:/Users/LCW/Desktop/textmining/dict/artdict.txt')\n",
    "jieba.load_userdict('C:/Users/LCW/Desktop/textmining/dict/chiartdict.txt')\n",
    "jieba.load_userdict('C:/Users/LCW/Desktop/textmining/dict/ngram.txt')\n",
    "stoplist = []\n",
    "documents =[]\n",
    "words=[]\n",
    "with io.open('C:/Users/LCW/Desktop/textmining/stoplist.txt','r',encoding = 'utf-8') as f:\n",
    "    for line in f.readlines():\n",
    "        stoplist.append(line.strip('\\n'))\n",
    "\n",
    "with io.open('C:/Users/LCW/Desktop/textmining/totaltext/0101.txt','r',encoding = 'utf-8') as f:\n",
    "    for line in f.readlines():\n",
    "        documents.append(line.strip('\\n'))\n",
    "new=[[token for token in jieba.cut(doc) if token not in stoplist]for doc in documents]\n",
    "model = w2v(new,sg=1, min_count=2, size=300, window=5)#訓練word2vec#window 上下文數目\n"
   ]
  },
  {
   "cell_type": "code",
   "execution_count": 34,
   "metadata": {
    "collapsed": false
   },
   "outputs": [
    {
     "name": "stdout",
     "output_type": "stream",
     "text": [
      "柯洛 0.968045115471\n",
      "雷諾瓦 0.961218059063\n",
      "米勒 0.956022620201\n",
      "夏丹 0.955789923668\n"
     ]
    }
   ],
   "source": [
    "similar=model.most_similar(u'梵谷',topn=4)#query字詞印出相似詞\n",
    "for a in similar:\n",
    "    print a[0],a[1]"
   ]
  },
  {
   "cell_type": "code",
   "execution_count": 35,
   "metadata": {
    "collapsed": false,
    "scrolled": true
   },
   "outputs": [],
   "source": [
    "tfidf=[]\n",
    "word2vec=[]\n",
    "with io.open('C:/Users/LCW/Desktop/textmining/tfidf.txt','r',encoding = 'utf-8') as f:\n",
    "    for line in f.readlines():\n",
    "        tfidf.append(line.split(','))\n",
    "for article in tfidf:\n",
    "    text=''\n",
    "    \n",
    "    for a in article:\n",
    "        a=unicode(a).strip('\\n\\r')\n",
    "        text+=a[0:]+','\n",
    "        try:\n",
    "            similar=model.most_similar(a[0:].strip('\\n\\r'),topn=4)#query字詞印出相似詞\n",
    "        except:\n",
    "            continue\n",
    "        for b in similar:\n",
    "            text+= b[0]+','\n",
    "    text+='\\n'\n",
    "    word2vec.append(text)"
   ]
  },
  {
   "cell_type": "code",
   "execution_count": 36,
   "metadata": {
    "collapsed": false
   },
   "outputs": [],
   "source": [
    "#print word2vec[0].strip('\\n\\r')\n",
    "with io.open('C:/Users/LCW/Desktop/textmining/tfidfw2v1.txt','w',encoding = 'utf-8') as f:\n",
    "    for a in word2vec:\n",
    "        f.write(a)"
   ]
  },
  {
   "cell_type": "code",
   "execution_count": 93,
   "metadata": {
    "collapsed": false
   },
   "outputs": [
    {
     "data": {
      "text/plain": [
       "0.99140831370205729"
      ]
     },
     "execution_count": 93,
     "metadata": {},
     "output_type": "execute_result"
    }
   ],
   "source": [
    "model.init_sims(replace=True)\n",
    "model.similarity(u'美國',u'紐約')"
   ]
  }
 ],
 "metadata": {
  "kernelspec": {
   "display_name": "Python 2",
   "language": "python",
   "name": "python2"
  },
  "language_info": {
   "codemirror_mode": {
    "name": "ipython",
    "version": 2
   },
   "file_extension": ".py",
   "mimetype": "text/x-python",
   "name": "python",
   "nbconvert_exporter": "python",
   "pygments_lexer": "ipython2",
   "version": "2.7.11"
  }
 },
 "nbformat": 4,
 "nbformat_minor": 0
}
